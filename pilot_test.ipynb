{
  "nbformat": 4,
  "nbformat_minor": 0,
  "metadata": {
    "colab": {
      "provenance": [],
      "gpuType": "T4",
      "mount_file_id": "1JnGtgPh-04dZeCYNCb_QCWXOM2cHfwjJ",
      "authorship_tag": "ABX9TyMltPGZvHm+93EdGrBVGEAu",
      "include_colab_link": true
    },
    "kernelspec": {
      "name": "python3",
      "display_name": "Python 3"
    },
    "language_info": {
      "name": "python"
    },
    "accelerator": "GPU",
    "widgets": {
      "application/vnd.jupyter.widget-state+json": {
        "58f78b2ad90a45baa31416ef0768e449": {
          "model_module": "@jupyter-widgets/controls",
          "model_name": "HBoxModel",
          "model_module_version": "1.5.0",
          "state": {
            "_dom_classes": [],
            "_model_module": "@jupyter-widgets/controls",
            "_model_module_version": "1.5.0",
            "_model_name": "HBoxModel",
            "_view_count": null,
            "_view_module": "@jupyter-widgets/controls",
            "_view_module_version": "1.5.0",
            "_view_name": "HBoxView",
            "box_style": "",
            "children": [
              "IPY_MODEL_7efc77ad5d81485090ec908487c9650d",
              "IPY_MODEL_74617063c63a4d31a14f32ef1df3337a",
              "IPY_MODEL_66ed3ae1329b4df0aa138f0dec3193c0"
            ],
            "layout": "IPY_MODEL_c5328619bc8f4c649420f9f0c5599ba5"
          }
        },
        "7efc77ad5d81485090ec908487c9650d": {
          "model_module": "@jupyter-widgets/controls",
          "model_name": "HTMLModel",
          "model_module_version": "1.5.0",
          "state": {
            "_dom_classes": [],
            "_model_module": "@jupyter-widgets/controls",
            "_model_module_version": "1.5.0",
            "_model_name": "HTMLModel",
            "_view_count": null,
            "_view_module": "@jupyter-widgets/controls",
            "_view_module_version": "1.5.0",
            "_view_name": "HTMLView",
            "description": "",
            "description_tooltip": null,
            "layout": "IPY_MODEL_64af930676ca4a1b8b7b500eea988f0d",
            "placeholder": "​",
            "style": "IPY_MODEL_bd7f7245d22f46408fc8a235c14175c6",
            "value": "100%"
          }
        },
        "74617063c63a4d31a14f32ef1df3337a": {
          "model_module": "@jupyter-widgets/controls",
          "model_name": "FloatProgressModel",
          "model_module_version": "1.5.0",
          "state": {
            "_dom_classes": [],
            "_model_module": "@jupyter-widgets/controls",
            "_model_module_version": "1.5.0",
            "_model_name": "FloatProgressModel",
            "_view_count": null,
            "_view_module": "@jupyter-widgets/controls",
            "_view_module_version": "1.5.0",
            "_view_name": "ProgressView",
            "bar_style": "success",
            "description": "",
            "description_tooltip": null,
            "layout": "IPY_MODEL_346948f56e4942a4a647879d1806c8e2",
            "max": 100,
            "min": 0,
            "orientation": "horizontal",
            "style": "IPY_MODEL_8af5a48b3ce8458494413a0317463b7b",
            "value": 100
          }
        },
        "66ed3ae1329b4df0aa138f0dec3193c0": {
          "model_module": "@jupyter-widgets/controls",
          "model_name": "HTMLModel",
          "model_module_version": "1.5.0",
          "state": {
            "_dom_classes": [],
            "_model_module": "@jupyter-widgets/controls",
            "_model_module_version": "1.5.0",
            "_model_name": "HTMLModel",
            "_view_count": null,
            "_view_module": "@jupyter-widgets/controls",
            "_view_module_version": "1.5.0",
            "_view_name": "HTMLView",
            "description": "",
            "description_tooltip": null,
            "layout": "IPY_MODEL_a2ee0d0245024a98be14159dfd488be7",
            "placeholder": "​",
            "style": "IPY_MODEL_435afdd613b348168ec4fdc810b763ab",
            "value": " 100/100 [00:13&lt;00:00,  7.33it/s]"
          }
        },
        "c5328619bc8f4c649420f9f0c5599ba5": {
          "model_module": "@jupyter-widgets/base",
          "model_name": "LayoutModel",
          "model_module_version": "1.2.0",
          "state": {
            "_model_module": "@jupyter-widgets/base",
            "_model_module_version": "1.2.0",
            "_model_name": "LayoutModel",
            "_view_count": null,
            "_view_module": "@jupyter-widgets/base",
            "_view_module_version": "1.2.0",
            "_view_name": "LayoutView",
            "align_content": null,
            "align_items": null,
            "align_self": null,
            "border": null,
            "bottom": null,
            "display": null,
            "flex": null,
            "flex_flow": null,
            "grid_area": null,
            "grid_auto_columns": null,
            "grid_auto_flow": null,
            "grid_auto_rows": null,
            "grid_column": null,
            "grid_gap": null,
            "grid_row": null,
            "grid_template_areas": null,
            "grid_template_columns": null,
            "grid_template_rows": null,
            "height": null,
            "justify_content": null,
            "justify_items": null,
            "left": null,
            "margin": null,
            "max_height": null,
            "max_width": null,
            "min_height": null,
            "min_width": null,
            "object_fit": null,
            "object_position": null,
            "order": null,
            "overflow": null,
            "overflow_x": null,
            "overflow_y": null,
            "padding": null,
            "right": null,
            "top": null,
            "visibility": null,
            "width": null
          }
        },
        "64af930676ca4a1b8b7b500eea988f0d": {
          "model_module": "@jupyter-widgets/base",
          "model_name": "LayoutModel",
          "model_module_version": "1.2.0",
          "state": {
            "_model_module": "@jupyter-widgets/base",
            "_model_module_version": "1.2.0",
            "_model_name": "LayoutModel",
            "_view_count": null,
            "_view_module": "@jupyter-widgets/base",
            "_view_module_version": "1.2.0",
            "_view_name": "LayoutView",
            "align_content": null,
            "align_items": null,
            "align_self": null,
            "border": null,
            "bottom": null,
            "display": null,
            "flex": null,
            "flex_flow": null,
            "grid_area": null,
            "grid_auto_columns": null,
            "grid_auto_flow": null,
            "grid_auto_rows": null,
            "grid_column": null,
            "grid_gap": null,
            "grid_row": null,
            "grid_template_areas": null,
            "grid_template_columns": null,
            "grid_template_rows": null,
            "height": null,
            "justify_content": null,
            "justify_items": null,
            "left": null,
            "margin": null,
            "max_height": null,
            "max_width": null,
            "min_height": null,
            "min_width": null,
            "object_fit": null,
            "object_position": null,
            "order": null,
            "overflow": null,
            "overflow_x": null,
            "overflow_y": null,
            "padding": null,
            "right": null,
            "top": null,
            "visibility": null,
            "width": null
          }
        },
        "bd7f7245d22f46408fc8a235c14175c6": {
          "model_module": "@jupyter-widgets/controls",
          "model_name": "DescriptionStyleModel",
          "model_module_version": "1.5.0",
          "state": {
            "_model_module": "@jupyter-widgets/controls",
            "_model_module_version": "1.5.0",
            "_model_name": "DescriptionStyleModel",
            "_view_count": null,
            "_view_module": "@jupyter-widgets/base",
            "_view_module_version": "1.2.0",
            "_view_name": "StyleView",
            "description_width": ""
          }
        },
        "346948f56e4942a4a647879d1806c8e2": {
          "model_module": "@jupyter-widgets/base",
          "model_name": "LayoutModel",
          "model_module_version": "1.2.0",
          "state": {
            "_model_module": "@jupyter-widgets/base",
            "_model_module_version": "1.2.0",
            "_model_name": "LayoutModel",
            "_view_count": null,
            "_view_module": "@jupyter-widgets/base",
            "_view_module_version": "1.2.0",
            "_view_name": "LayoutView",
            "align_content": null,
            "align_items": null,
            "align_self": null,
            "border": null,
            "bottom": null,
            "display": null,
            "flex": null,
            "flex_flow": null,
            "grid_area": null,
            "grid_auto_columns": null,
            "grid_auto_flow": null,
            "grid_auto_rows": null,
            "grid_column": null,
            "grid_gap": null,
            "grid_row": null,
            "grid_template_areas": null,
            "grid_template_columns": null,
            "grid_template_rows": null,
            "height": null,
            "justify_content": null,
            "justify_items": null,
            "left": null,
            "margin": null,
            "max_height": null,
            "max_width": null,
            "min_height": null,
            "min_width": null,
            "object_fit": null,
            "object_position": null,
            "order": null,
            "overflow": null,
            "overflow_x": null,
            "overflow_y": null,
            "padding": null,
            "right": null,
            "top": null,
            "visibility": null,
            "width": null
          }
        },
        "8af5a48b3ce8458494413a0317463b7b": {
          "model_module": "@jupyter-widgets/controls",
          "model_name": "ProgressStyleModel",
          "model_module_version": "1.5.0",
          "state": {
            "_model_module": "@jupyter-widgets/controls",
            "_model_module_version": "1.5.0",
            "_model_name": "ProgressStyleModel",
            "_view_count": null,
            "_view_module": "@jupyter-widgets/base",
            "_view_module_version": "1.2.0",
            "_view_name": "StyleView",
            "bar_color": null,
            "description_width": ""
          }
        },
        "a2ee0d0245024a98be14159dfd488be7": {
          "model_module": "@jupyter-widgets/base",
          "model_name": "LayoutModel",
          "model_module_version": "1.2.0",
          "state": {
            "_model_module": "@jupyter-widgets/base",
            "_model_module_version": "1.2.0",
            "_model_name": "LayoutModel",
            "_view_count": null,
            "_view_module": "@jupyter-widgets/base",
            "_view_module_version": "1.2.0",
            "_view_name": "LayoutView",
            "align_content": null,
            "align_items": null,
            "align_self": null,
            "border": null,
            "bottom": null,
            "display": null,
            "flex": null,
            "flex_flow": null,
            "grid_area": null,
            "grid_auto_columns": null,
            "grid_auto_flow": null,
            "grid_auto_rows": null,
            "grid_column": null,
            "grid_gap": null,
            "grid_row": null,
            "grid_template_areas": null,
            "grid_template_columns": null,
            "grid_template_rows": null,
            "height": null,
            "justify_content": null,
            "justify_items": null,
            "left": null,
            "margin": null,
            "max_height": null,
            "max_width": null,
            "min_height": null,
            "min_width": null,
            "object_fit": null,
            "object_position": null,
            "order": null,
            "overflow": null,
            "overflow_x": null,
            "overflow_y": null,
            "padding": null,
            "right": null,
            "top": null,
            "visibility": null,
            "width": null
          }
        },
        "435afdd613b348168ec4fdc810b763ab": {
          "model_module": "@jupyter-widgets/controls",
          "model_name": "DescriptionStyleModel",
          "model_module_version": "1.5.0",
          "state": {
            "_model_module": "@jupyter-widgets/controls",
            "_model_module_version": "1.5.0",
            "_model_name": "DescriptionStyleModel",
            "_view_count": null,
            "_view_module": "@jupyter-widgets/base",
            "_view_module_version": "1.2.0",
            "_view_name": "StyleView",
            "description_width": ""
          }
        },
        "9fdb1a672fb74808b64da1f3b8f9351b": {
          "model_module": "@jupyter-widgets/controls",
          "model_name": "HBoxModel",
          "model_module_version": "1.5.0",
          "state": {
            "_dom_classes": [],
            "_model_module": "@jupyter-widgets/controls",
            "_model_module_version": "1.5.0",
            "_model_name": "HBoxModel",
            "_view_count": null,
            "_view_module": "@jupyter-widgets/controls",
            "_view_module_version": "1.5.0",
            "_view_name": "HBoxView",
            "box_style": "",
            "children": [
              "IPY_MODEL_990b6dfd985249348f02c4f2e6239ab7",
              "IPY_MODEL_5bf7bd69aa6649388ff6aef97ce5b8ad",
              "IPY_MODEL_43b7b8cd7c0443739fe6ee389fc57699"
            ],
            "layout": "IPY_MODEL_374bd8e8c889497eb6f67a54d832e246"
          }
        },
        "990b6dfd985249348f02c4f2e6239ab7": {
          "model_module": "@jupyter-widgets/controls",
          "model_name": "HTMLModel",
          "model_module_version": "1.5.0",
          "state": {
            "_dom_classes": [],
            "_model_module": "@jupyter-widgets/controls",
            "_model_module_version": "1.5.0",
            "_model_name": "HTMLModel",
            "_view_count": null,
            "_view_module": "@jupyter-widgets/controls",
            "_view_module_version": "1.5.0",
            "_view_name": "HTMLView",
            "description": "",
            "description_tooltip": null,
            "layout": "IPY_MODEL_81ecac29b11e40d6b1fba75ff52ac084",
            "placeholder": "​",
            "style": "IPY_MODEL_068b29a03c134eb39949761b9e7ae288",
            "value": "100%"
          }
        },
        "5bf7bd69aa6649388ff6aef97ce5b8ad": {
          "model_module": "@jupyter-widgets/controls",
          "model_name": "FloatProgressModel",
          "model_module_version": "1.5.0",
          "state": {
            "_dom_classes": [],
            "_model_module": "@jupyter-widgets/controls",
            "_model_module_version": "1.5.0",
            "_model_name": "FloatProgressModel",
            "_view_count": null,
            "_view_module": "@jupyter-widgets/controls",
            "_view_module_version": "1.5.0",
            "_view_name": "ProgressView",
            "bar_style": "success",
            "description": "",
            "description_tooltip": null,
            "layout": "IPY_MODEL_b699babd933e4ab59d8cde8a98a5c46d",
            "max": 100,
            "min": 0,
            "orientation": "horizontal",
            "style": "IPY_MODEL_53ec85fc368a41daa8cebd8312a72370",
            "value": 100
          }
        },
        "43b7b8cd7c0443739fe6ee389fc57699": {
          "model_module": "@jupyter-widgets/controls",
          "model_name": "HTMLModel",
          "model_module_version": "1.5.0",
          "state": {
            "_dom_classes": [],
            "_model_module": "@jupyter-widgets/controls",
            "_model_module_version": "1.5.0",
            "_model_name": "HTMLModel",
            "_view_count": null,
            "_view_module": "@jupyter-widgets/controls",
            "_view_module_version": "1.5.0",
            "_view_name": "HTMLView",
            "description": "",
            "description_tooltip": null,
            "layout": "IPY_MODEL_9e9d03c986fd4d4d89c6ff9054aeed6d",
            "placeholder": "​",
            "style": "IPY_MODEL_ce79d6b8f31d4b5e9a2bf15aa40ea267",
            "value": " 100/100 [00:13&lt;00:00,  7.09it/s]"
          }
        },
        "374bd8e8c889497eb6f67a54d832e246": {
          "model_module": "@jupyter-widgets/base",
          "model_name": "LayoutModel",
          "model_module_version": "1.2.0",
          "state": {
            "_model_module": "@jupyter-widgets/base",
            "_model_module_version": "1.2.0",
            "_model_name": "LayoutModel",
            "_view_count": null,
            "_view_module": "@jupyter-widgets/base",
            "_view_module_version": "1.2.0",
            "_view_name": "LayoutView",
            "align_content": null,
            "align_items": null,
            "align_self": null,
            "border": null,
            "bottom": null,
            "display": null,
            "flex": null,
            "flex_flow": null,
            "grid_area": null,
            "grid_auto_columns": null,
            "grid_auto_flow": null,
            "grid_auto_rows": null,
            "grid_column": null,
            "grid_gap": null,
            "grid_row": null,
            "grid_template_areas": null,
            "grid_template_columns": null,
            "grid_template_rows": null,
            "height": null,
            "justify_content": null,
            "justify_items": null,
            "left": null,
            "margin": null,
            "max_height": null,
            "max_width": null,
            "min_height": null,
            "min_width": null,
            "object_fit": null,
            "object_position": null,
            "order": null,
            "overflow": null,
            "overflow_x": null,
            "overflow_y": null,
            "padding": null,
            "right": null,
            "top": null,
            "visibility": null,
            "width": null
          }
        },
        "81ecac29b11e40d6b1fba75ff52ac084": {
          "model_module": "@jupyter-widgets/base",
          "model_name": "LayoutModel",
          "model_module_version": "1.2.0",
          "state": {
            "_model_module": "@jupyter-widgets/base",
            "_model_module_version": "1.2.0",
            "_model_name": "LayoutModel",
            "_view_count": null,
            "_view_module": "@jupyter-widgets/base",
            "_view_module_version": "1.2.0",
            "_view_name": "LayoutView",
            "align_content": null,
            "align_items": null,
            "align_self": null,
            "border": null,
            "bottom": null,
            "display": null,
            "flex": null,
            "flex_flow": null,
            "grid_area": null,
            "grid_auto_columns": null,
            "grid_auto_flow": null,
            "grid_auto_rows": null,
            "grid_column": null,
            "grid_gap": null,
            "grid_row": null,
            "grid_template_areas": null,
            "grid_template_columns": null,
            "grid_template_rows": null,
            "height": null,
            "justify_content": null,
            "justify_items": null,
            "left": null,
            "margin": null,
            "max_height": null,
            "max_width": null,
            "min_height": null,
            "min_width": null,
            "object_fit": null,
            "object_position": null,
            "order": null,
            "overflow": null,
            "overflow_x": null,
            "overflow_y": null,
            "padding": null,
            "right": null,
            "top": null,
            "visibility": null,
            "width": null
          }
        },
        "068b29a03c134eb39949761b9e7ae288": {
          "model_module": "@jupyter-widgets/controls",
          "model_name": "DescriptionStyleModel",
          "model_module_version": "1.5.0",
          "state": {
            "_model_module": "@jupyter-widgets/controls",
            "_model_module_version": "1.5.0",
            "_model_name": "DescriptionStyleModel",
            "_view_count": null,
            "_view_module": "@jupyter-widgets/base",
            "_view_module_version": "1.2.0",
            "_view_name": "StyleView",
            "description_width": ""
          }
        },
        "b699babd933e4ab59d8cde8a98a5c46d": {
          "model_module": "@jupyter-widgets/base",
          "model_name": "LayoutModel",
          "model_module_version": "1.2.0",
          "state": {
            "_model_module": "@jupyter-widgets/base",
            "_model_module_version": "1.2.0",
            "_model_name": "LayoutModel",
            "_view_count": null,
            "_view_module": "@jupyter-widgets/base",
            "_view_module_version": "1.2.0",
            "_view_name": "LayoutView",
            "align_content": null,
            "align_items": null,
            "align_self": null,
            "border": null,
            "bottom": null,
            "display": null,
            "flex": null,
            "flex_flow": null,
            "grid_area": null,
            "grid_auto_columns": null,
            "grid_auto_flow": null,
            "grid_auto_rows": null,
            "grid_column": null,
            "grid_gap": null,
            "grid_row": null,
            "grid_template_areas": null,
            "grid_template_columns": null,
            "grid_template_rows": null,
            "height": null,
            "justify_content": null,
            "justify_items": null,
            "left": null,
            "margin": null,
            "max_height": null,
            "max_width": null,
            "min_height": null,
            "min_width": null,
            "object_fit": null,
            "object_position": null,
            "order": null,
            "overflow": null,
            "overflow_x": null,
            "overflow_y": null,
            "padding": null,
            "right": null,
            "top": null,
            "visibility": null,
            "width": null
          }
        },
        "53ec85fc368a41daa8cebd8312a72370": {
          "model_module": "@jupyter-widgets/controls",
          "model_name": "ProgressStyleModel",
          "model_module_version": "1.5.0",
          "state": {
            "_model_module": "@jupyter-widgets/controls",
            "_model_module_version": "1.5.0",
            "_model_name": "ProgressStyleModel",
            "_view_count": null,
            "_view_module": "@jupyter-widgets/base",
            "_view_module_version": "1.2.0",
            "_view_name": "StyleView",
            "bar_color": null,
            "description_width": ""
          }
        },
        "9e9d03c986fd4d4d89c6ff9054aeed6d": {
          "model_module": "@jupyter-widgets/base",
          "model_name": "LayoutModel",
          "model_module_version": "1.2.0",
          "state": {
            "_model_module": "@jupyter-widgets/base",
            "_model_module_version": "1.2.0",
            "_model_name": "LayoutModel",
            "_view_count": null,
            "_view_module": "@jupyter-widgets/base",
            "_view_module_version": "1.2.0",
            "_view_name": "LayoutView",
            "align_content": null,
            "align_items": null,
            "align_self": null,
            "border": null,
            "bottom": null,
            "display": null,
            "flex": null,
            "flex_flow": null,
            "grid_area": null,
            "grid_auto_columns": null,
            "grid_auto_flow": null,
            "grid_auto_rows": null,
            "grid_column": null,
            "grid_gap": null,
            "grid_row": null,
            "grid_template_areas": null,
            "grid_template_columns": null,
            "grid_template_rows": null,
            "height": null,
            "justify_content": null,
            "justify_items": null,
            "left": null,
            "margin": null,
            "max_height": null,
            "max_width": null,
            "min_height": null,
            "min_width": null,
            "object_fit": null,
            "object_position": null,
            "order": null,
            "overflow": null,
            "overflow_x": null,
            "overflow_y": null,
            "padding": null,
            "right": null,
            "top": null,
            "visibility": null,
            "width": null
          }
        },
        "ce79d6b8f31d4b5e9a2bf15aa40ea267": {
          "model_module": "@jupyter-widgets/controls",
          "model_name": "DescriptionStyleModel",
          "model_module_version": "1.5.0",
          "state": {
            "_model_module": "@jupyter-widgets/controls",
            "_model_module_version": "1.5.0",
            "_model_name": "DescriptionStyleModel",
            "_view_count": null,
            "_view_module": "@jupyter-widgets/base",
            "_view_module_version": "1.2.0",
            "_view_name": "StyleView",
            "description_width": ""
          }
        }
      }
    }
  },
  "cells": [
    {
      "cell_type": "markdown",
      "metadata": {
        "id": "view-in-github",
        "colab_type": "text"
      },
      "source": [
        "<a href=\"https://colab.research.google.com/github/himawanbayu/nlp-team-3/blob/main/pilot_test.ipynb\" target=\"_parent\"><img src=\"https://colab.research.google.com/assets/colab-badge.svg\" alt=\"Open In Colab\"/></a>"
      ]
    },
    {
      "cell_type": "markdown",
      "source": [
        "# Pilot Study\n",
        "author: Hongxu Zhou  \n",
        "\n",
        "This notebook aims to run the complete pipeline for testing the auto-generated distractors and compare the results with original SciQ dataset.   \n",
        "This one serves as a minimal viable product. It uses:  \n",
        "* BERT-base-uncased as the testing model\n",
        "* the first 100 questions with distractors denerataed by llama3.2 1B (credits go to Jelmer)  \n",
        "\n",
        "**Known issues:**\n",
        "* 27/100 questions have at least two distractors duplicated\n",
        "* Some contexts are quite long, exceeding the 512 max length of BERT, but this MVP does not use sliding window"
      ],
      "metadata": {
        "id": "4I5onvg8GI7z"
      }
    },
    {
      "cell_type": "code",
      "source": [
        "# Multiple Choice Question Distractor Evaluation with BERT\n",
        "# Comparing original SciQ distractors with Llama3.2 generated distractors\n",
        "\n",
        "import pandas as pd\n",
        "import numpy as np\n",
        "import torch\n",
        "import random\n",
        "from transformers import BertTokenizer, BertForMultipleChoice\n",
        "from google.colab import drive\n",
        "import matplotlib.pyplot as plt\n",
        "from tqdm.notebook import tqdm"
      ],
      "metadata": {
        "id": "BHCKTkj7F7RK"
      },
      "execution_count": 1,
      "outputs": []
    },
    {
      "cell_type": "markdown",
      "source": [
        "## Data loading & random seeds"
      ],
      "metadata": {
        "id": "XZOh6hDFGBoo"
      }
    },
    {
      "cell_type": "code",
      "source": [
        "# Set random seed for reproducibility\n",
        "random.seed(42)\n",
        "np.random.seed(42)\n",
        "torch.manual_seed(42)\n",
        "if torch.cuda.is_available():\n",
        "    torch.cuda.manual_seed_all(42)\n",
        "\n",
        "# Mount Google Drive to access datasets\n",
        "drive.mount('/content/drive')\n",
        "\n",
        "# Load the dataset (adjust path as needed)\n",
        "dataset_path = '/content/drive/MyDrive/SciQ_personal/first100_llama3.2_generated - Sheet1.tsv'\n",
        "pilot_df = pd.read_csv(dataset_path, sep='\\t')\n",
        "\n",
        "# Display the first few rows of the dataset\n",
        "pilot_df.head()"
      ],
      "metadata": {
        "id": "dqTQLpvEN72O"
      },
      "execution_count": null,
      "outputs": []
    },
    {
      "cell_type": "markdown",
      "source": [
        "## Taking the test"
      ],
      "metadata": {
        "id": "v_uf_16_GH6q"
      }
    },
    {
      "cell_type": "code",
      "source": [
        "def evaluate_bert_on_mcq(dataframe, use_generated_distractors=False, max_length=512):\n",
        "    # Initialize model and tokenizer\n",
        "    tokenizer = BertTokenizer.from_pretrained('bert-base-uncased')\n",
        "    model = BertForMultipleChoice.from_pretrained('bert-base-uncased')\n",
        "\n",
        "    # Move model to GPU if available\n",
        "    device = torch.device('cuda' if torch.cuda.is_available() else 'cpu')\n",
        "    model.to(device)\n",
        "\n",
        "    correct_count = 0\n",
        "    results = []\n",
        "\n",
        "    # Process each question\n",
        "    for _, row in tqdm(dataframe.iterrows(), total=len(dataframe)):\n",
        "        question = row['question']\n",
        "        context = str(row['support'])  # Ensure it's a string\n",
        "        correct_answer = row['correct_answer']\n",
        "\n",
        "        # Select either original or generated distractors\n",
        "        if use_generated_distractors:\n",
        "            distractors = [\n",
        "                row['sys_distractor1'],\n",
        "                row['sys_distractor2'],\n",
        "                row['sys_distractor3']\n",
        "            ]\n",
        "        else:\n",
        "            distractors = [\n",
        "                row['ref_distractor1'],\n",
        "                row['ref_distractor2'],\n",
        "                row['ref_distractor3']\n",
        "            ]\n",
        "\n",
        "        # Combine correct answer and distractors\n",
        "        choices = [correct_answer] + distractors\n",
        "\n",
        "        # Randomize the order of choices\n",
        "        correct_index = 0  # Current position of correct answer\n",
        "        shuffled_indices = list(range(len(choices)))\n",
        "        random.shuffle(shuffled_indices)\n",
        "\n",
        "        # Track where the correct answer ends up after shuffling\n",
        "        new_correct_index = shuffled_indices.index(correct_index)\n",
        "        shuffled_choices = [choices[i] for i in shuffled_indices]\n",
        "\n",
        "        # Format inputs in the way BertForMultipleChoice expects\n",
        "        # We need to create input pairs for each choice\n",
        "        encoded_inputs = []\n",
        "\n",
        "        for choice in shuffled_choices:\n",
        "            # Format as: [CLS] context [SEP] question + choice [SEP]\n",
        "            # This is the expected format for BERT sequence classification\n",
        "            encoded_input = tokenizer.encode_plus(\n",
        "                context,\n",
        "                question + \" \" + choice,\n",
        "                add_special_tokens=True,\n",
        "                max_length=max_length,\n",
        "                padding='max_length',\n",
        "                truncation=True,\n",
        "                return_tensors='pt'\n",
        "            )\n",
        "            encoded_inputs.append({\n",
        "                'input_ids': encoded_input['input_ids'].squeeze(),\n",
        "                'attention_mask': encoded_input['attention_mask'].squeeze(),\n",
        "                'token_type_ids': encoded_input['token_type_ids'].squeeze()\n",
        "            })\n",
        "\n",
        "        # Stack all inputs\n",
        "        input_ids = torch.stack([encoded_input['input_ids'] for encoded_input in encoded_inputs]).unsqueeze(0).to(device)\n",
        "        attention_mask = torch.stack([encoded_input['attention_mask'] for encoded_input in encoded_inputs]).unsqueeze(0).to(device)\n",
        "        token_type_ids = torch.stack([encoded_input['token_type_ids'] for encoded_input in encoded_inputs]).unsqueeze(0).to(device)\n",
        "\n",
        "        # Get model outputs\n",
        "        with torch.no_grad():\n",
        "            outputs = model(\n",
        "                input_ids=input_ids,\n",
        "                attention_mask=attention_mask,\n",
        "                token_type_ids=token_type_ids\n",
        "            )\n",
        "\n",
        "        # Get prediction and confidence scores\n",
        "        logits = outputs.logits\n",
        "        probabilities = torch.nn.functional.softmax(logits, dim=1).cpu().numpy()[0]\n",
        "        predicted_idx = logits.argmax().item()\n",
        "\n",
        "        # Check if prediction is correct\n",
        "        is_correct = (predicted_idx == new_correct_index)\n",
        "        if is_correct:\n",
        "            correct_count += 1\n",
        "\n",
        "        # Save result details\n",
        "        result = {\n",
        "            'question': question,\n",
        "            'correct_answer': correct_answer,\n",
        "            'shuffled_choices': shuffled_choices,\n",
        "            'correct_index': new_correct_index,\n",
        "            'predicted_index': predicted_idx,\n",
        "            'is_correct': is_correct,\n",
        "            'confidence_scores': probabilities.tolist(),\n",
        "            'confidence_in_correct': probabilities[new_correct_index],\n",
        "            'confidence_in_prediction': probabilities[predicted_idx]\n",
        "        }\n",
        "        results.append(result)\n",
        "\n",
        "    # Calculate accuracy\n",
        "    accuracy = correct_count / len(dataframe)\n",
        "\n",
        "    # Calculate average confidence in correct answers\n",
        "    avg_confidence_correct = np.mean([r['confidence_in_correct'] for r in results])\n",
        "\n",
        "    # Clean up to free memory\n",
        "    del model\n",
        "    if torch.cuda.is_available():\n",
        "        torch.cuda.empty_cache()\n",
        "\n",
        "    return {\n",
        "        'accuracy': accuracy,\n",
        "        'correct_count': correct_count,\n",
        "        'total_questions': len(dataframe),\n",
        "        'avg_confidence_correct': avg_confidence_correct,\n",
        "        'detailed_results': results\n",
        "    }"
      ],
      "metadata": {
        "id": "1qXg_tH6GBA7"
      },
      "execution_count": 11,
      "outputs": []
    },
    {
      "cell_type": "markdown",
      "source": [
        "**Please be aware:**  \n",
        "There are some trick issues associated with [`BertForMultipleChoice`](https://huggingface.co/docs/transformers/v4.50.0/en/model_doc/bert#transformers.BertForMultipleChoice).  \n",
        "I managed to solve them with Claude's help. But please double-check the code because some parts are machine-generated."
      ],
      "metadata": {
        "id": "ohKOEKIAY5t6"
      }
    },
    {
      "cell_type": "code",
      "source": [
        "# Run evaluation with original distractors\n",
        "print(\"Evaluating BERT on questions with original distractors...\")\n",
        "original_results = evaluate_bert_on_mcq(pilot_df, use_generated_distractors=False)\n",
        "\n",
        "# Run evaluation with generated distractors\n",
        "print(\"\\nEvaluating BERT on questions with Llama3.2 generated distractors...\")\n",
        "generated_results = evaluate_bert_on_mcq(pilot_df, use_generated_distractors=True)"
      ],
      "metadata": {
        "colab": {
          "base_uri": "https://localhost:8080/",
          "height": 512,
          "referenced_widgets": [
            "58f78b2ad90a45baa31416ef0768e449",
            "7efc77ad5d81485090ec908487c9650d",
            "74617063c63a4d31a14f32ef1df3337a",
            "66ed3ae1329b4df0aa138f0dec3193c0",
            "c5328619bc8f4c649420f9f0c5599ba5",
            "64af930676ca4a1b8b7b500eea988f0d",
            "bd7f7245d22f46408fc8a235c14175c6",
            "346948f56e4942a4a647879d1806c8e2",
            "8af5a48b3ce8458494413a0317463b7b",
            "a2ee0d0245024a98be14159dfd488be7",
            "435afdd613b348168ec4fdc810b763ab",
            "9fdb1a672fb74808b64da1f3b8f9351b",
            "990b6dfd985249348f02c4f2e6239ab7",
            "5bf7bd69aa6649388ff6aef97ce5b8ad",
            "43b7b8cd7c0443739fe6ee389fc57699",
            "374bd8e8c889497eb6f67a54d832e246",
            "81ecac29b11e40d6b1fba75ff52ac084",
            "068b29a03c134eb39949761b9e7ae288",
            "b699babd933e4ab59d8cde8a98a5c46d",
            "53ec85fc368a41daa8cebd8312a72370",
            "9e9d03c986fd4d4d89c6ff9054aeed6d",
            "ce79d6b8f31d4b5e9a2bf15aa40ea267"
          ]
        },
        "id": "1XdllloBTpor",
        "outputId": "5717b6bf-ad1f-4ef6-b9f4-647167b718e1"
      },
      "execution_count": 12,
      "outputs": [
        {
          "output_type": "stream",
          "name": "stdout",
          "text": [
            "Evaluating BERT on questions with original distractors...\n"
          ]
        },
        {
          "output_type": "stream",
          "name": "stderr",
          "text": [
            "Some weights of BertForMultipleChoice were not initialized from the model checkpoint at bert-base-uncased and are newly initialized: ['classifier.bias', 'classifier.weight']\n",
            "You should probably TRAIN this model on a down-stream task to be able to use it for predictions and inference.\n"
          ]
        },
        {
          "output_type": "display_data",
          "data": {
            "text/plain": [
              "  0%|          | 0/100 [00:00<?, ?it/s]"
            ],
            "application/vnd.jupyter.widget-view+json": {
              "version_major": 2,
              "version_minor": 0,
              "model_id": "58f78b2ad90a45baa31416ef0768e449"
            }
          },
          "metadata": {}
        },
        {
          "output_type": "stream",
          "name": "stderr",
          "text": [
            "Be aware, overflowing tokens are not returned for the setting you have chosen, i.e. sequence pairs with the 'longest_first' truncation strategy. So the returned list will always be empty even if some tokens have been removed.\n",
            "Be aware, overflowing tokens are not returned for the setting you have chosen, i.e. sequence pairs with the 'longest_first' truncation strategy. So the returned list will always be empty even if some tokens have been removed.\n",
            "Be aware, overflowing tokens are not returned for the setting you have chosen, i.e. sequence pairs with the 'longest_first' truncation strategy. So the returned list will always be empty even if some tokens have been removed.\n",
            "Be aware, overflowing tokens are not returned for the setting you have chosen, i.e. sequence pairs with the 'longest_first' truncation strategy. So the returned list will always be empty even if some tokens have been removed.\n",
            "Be aware, overflowing tokens are not returned for the setting you have chosen, i.e. sequence pairs with the 'longest_first' truncation strategy. So the returned list will always be empty even if some tokens have been removed.\n",
            "Be aware, overflowing tokens are not returned for the setting you have chosen, i.e. sequence pairs with the 'longest_first' truncation strategy. So the returned list will always be empty even if some tokens have been removed.\n",
            "Be aware, overflowing tokens are not returned for the setting you have chosen, i.e. sequence pairs with the 'longest_first' truncation strategy. So the returned list will always be empty even if some tokens have been removed.\n",
            "Be aware, overflowing tokens are not returned for the setting you have chosen, i.e. sequence pairs with the 'longest_first' truncation strategy. So the returned list will always be empty even if some tokens have been removed.\n"
          ]
        },
        {
          "output_type": "stream",
          "name": "stdout",
          "text": [
            "\n",
            "Evaluating BERT on questions with Llama3.2 generated distractors...\n"
          ]
        },
        {
          "output_type": "stream",
          "name": "stderr",
          "text": [
            "Some weights of BertForMultipleChoice were not initialized from the model checkpoint at bert-base-uncased and are newly initialized: ['classifier.bias', 'classifier.weight']\n",
            "You should probably TRAIN this model on a down-stream task to be able to use it for predictions and inference.\n"
          ]
        },
        {
          "output_type": "display_data",
          "data": {
            "text/plain": [
              "  0%|          | 0/100 [00:00<?, ?it/s]"
            ],
            "application/vnd.jupyter.widget-view+json": {
              "version_major": 2,
              "version_minor": 0,
              "model_id": "9fdb1a672fb74808b64da1f3b8f9351b"
            }
          },
          "metadata": {}
        },
        {
          "output_type": "stream",
          "name": "stderr",
          "text": [
            "Be aware, overflowing tokens are not returned for the setting you have chosen, i.e. sequence pairs with the 'longest_first' truncation strategy. So the returned list will always be empty even if some tokens have been removed.\n",
            "Be aware, overflowing tokens are not returned for the setting you have chosen, i.e. sequence pairs with the 'longest_first' truncation strategy. So the returned list will always be empty even if some tokens have been removed.\n",
            "Be aware, overflowing tokens are not returned for the setting you have chosen, i.e. sequence pairs with the 'longest_first' truncation strategy. So the returned list will always be empty even if some tokens have been removed.\n",
            "Be aware, overflowing tokens are not returned for the setting you have chosen, i.e. sequence pairs with the 'longest_first' truncation strategy. So the returned list will always be empty even if some tokens have been removed.\n",
            "Be aware, overflowing tokens are not returned for the setting you have chosen, i.e. sequence pairs with the 'longest_first' truncation strategy. So the returned list will always be empty even if some tokens have been removed.\n",
            "Be aware, overflowing tokens are not returned for the setting you have chosen, i.e. sequence pairs with the 'longest_first' truncation strategy. So the returned list will always be empty even if some tokens have been removed.\n",
            "Be aware, overflowing tokens are not returned for the setting you have chosen, i.e. sequence pairs with the 'longest_first' truncation strategy. So the returned list will always be empty even if some tokens have been removed.\n",
            "Be aware, overflowing tokens are not returned for the setting you have chosen, i.e. sequence pairs with the 'longest_first' truncation strategy. So the returned list will always be empty even if some tokens have been removed.\n"
          ]
        }
      ]
    },
    {
      "cell_type": "markdown",
      "source": [
        "## Evaluation"
      ],
      "metadata": {
        "id": "51p5_rlvOFIu"
      }
    },
    {
      "cell_type": "code",
      "source": [
        "# Compare results\n",
        "print(\"\\n=== Results Comparison ===\")\n",
        "print(f\"Original distractors accuracy: {original_results['accuracy']:.2f} ({original_results['correct_count']}/{original_results['total_questions']})\")\n",
        "print(f\"Generated distractors accuracy: {generated_results['accuracy']:.2f} ({generated_results['correct_count']}/{generated_results['total_questions']})\")\n",
        "print(f\"Average confidence in correct answer (original): {original_results['avg_confidence_correct']:.4f}\")\n",
        "print(f\"Average confidence in correct answer (generated): {generated_results['avg_confidence_correct']:.4f}\")\n",
        "\n"
      ],
      "metadata": {
        "colab": {
          "base_uri": "https://localhost:8080/"
        },
        "id": "8ACeb0EHOGiq",
        "outputId": "637869c9-7aa0-4ec2-84fb-908d9ee9935a"
      },
      "execution_count": 13,
      "outputs": [
        {
          "output_type": "stream",
          "name": "stdout",
          "text": [
            "\n",
            "=== Results Comparison ===\n",
            "Original distractors accuracy: 0.36 (36/100)\n",
            "Generated distractors accuracy: 0.53 (53/100)\n",
            "Average confidence in correct answer (original): 0.2482\n",
            "Average confidence in correct answer (generated): 0.2496\n"
          ]
        }
      ]
    },
    {
      "cell_type": "markdown",
      "source": [
        "## Visualisation"
      ],
      "metadata": {
        "id": "poZ2u05EOJgq"
      }
    },
    {
      "cell_type": "code",
      "source": [
        "# Visualise the results\n",
        "plt.figure(figsize=(10, 5))\n",
        "\n",
        "# Accuracy comparison\n",
        "plt.subplot(1, 2, 1)\n",
        "accuracies = [original_results['accuracy'], generated_results['accuracy']]\n",
        "plt.bar(['Original Distractors', 'Generated Distractors'], accuracies, color=['blue', 'orange'])\n",
        "plt.ylim(0, 1)\n",
        "plt.title('Accuracy Comparison')\n",
        "plt.ylabel('Accuracy')\n",
        "\n",
        "# Confidence comparison\n",
        "plt.subplot(1, 2, 2)\n",
        "confidences = [original_results['avg_confidence_correct'], generated_results['avg_confidence_correct']]\n",
        "plt.bar(['Original Distractors', 'Generated Distractors'], confidences, color=['blue', 'orange'])\n",
        "plt.ylim(0, 1)\n",
        "plt.title('Avg. Confidence in Correct Answer')\n",
        "plt.ylabel('Confidence Score')\n",
        "\n",
        "plt.tight_layout()\n",
        "plt.savefig('distractor_comparison.png')\n",
        "plt.show()\n",
        "\n",
        "# Save detailed results for further analysis\n",
        "results_df = pd.DataFrame({\n",
        "    'question': [r['question'] for r in original_results['detailed_results']],\n",
        "    'correct_original': [r['is_correct'] for r in original_results['detailed_results']],\n",
        "    'correct_generated': [r['is_correct'] for r in generated_results['detailed_results']],\n",
        "    'conf_original': [r['confidence_in_correct'] for r in original_results['detailed_results']],\n",
        "    'conf_generated': [r['confidence_in_correct'] for r in generated_results['detailed_results']]\n",
        "})\n",
        "\n",
        "results_df.to_csv('mcq_evaluation_results.csv', index=False)\n",
        "print(\"Detailed results saved to 'mcq_evaluation_results.csv'\")"
      ],
      "metadata": {
        "colab": {
          "base_uri": "https://localhost:8080/",
          "height": 525
        },
        "id": "Bl6FQg0nOJI2",
        "outputId": "a6e26ebc-58a2-459b-efdd-7de455fc8f2e"
      },
      "execution_count": 14,
      "outputs": [
        {
          "output_type": "display_data",
          "data": {
            "text/plain": [
              "<Figure size 1000x500 with 2 Axes>"
            ],
            "image/png": "[encoded data removed]"
          },
          "metadata": {}
        },
        {
          "output_type": "stream",
          "name": "stdout",
          "text": [
            "Detailed results saved to 'mcq_evaluation_results.csv'\n"
          ]
        }
      ]
    },
    {
      "cell_type": "markdown",
      "source": [
        "For multiple-choice questions with 4 options (1 correct answer + 3 distractors), random guessing would give 25% accuracy. So the model is actually performing better than random guessing on both test papers:\n",
        "\n",
        "* Original distractors: 36% (11 percentage points above random)\n",
        "* Generated distractors: 53% (28 percentage points above random)  \n",
        "\n",
        "This suggests that:\n",
        "\n",
        "1. The original SciQ distractors are more challenging and effective at confusing the model\n",
        "2. The Llama-generated distractors are easier for the model to distinguish from the correct answer -- explainable since 30% of the questions have duplicated distractors  \n",
        "\n",
        "The confidence scores are almost identical between original and generated tests. The close-to-0.25 values indicate that despite getting more answers right with the generated distractors, the model isn't more confident in its choices.\n",
        "\n",
        "This fact has important implications for distractor quality:\n",
        "\n",
        "* Original SciQ distractors: These appear to be *genuinely* challenging. They create real confusion for the model (low accuracy) while keeping confidence low (near random).\n",
        "* Generated distractors: Despite yielding higher accuracy, they aren't making the model more confident. This suggests they may be less plausible as alternatives, allowing the model to eliminate them without being truly confident in the correct answer.\n",
        "\n",
        "However, regarding that mutiple contexts are truncated, it is too early to judge the quality of the generated distractors without the whole picture.\n",
        "\n",
        "Good distractors should be plausible enough to create genuine uncertainty. The fact that confidence stays low across both tests, but accuracy varies significantly, suggests the original SciQ distractors are more effective at creating that genuine uncertainty."
      ],
      "metadata": {
        "id": "A1QNir-maLbF"
      }
    }
  ]
}